{
 "cells": [
  {
   "cell_type": "markdown",
   "metadata": {},
   "source": [
    "Generate random points, interpolate them, generate random colors, plot. Do this dynamically?"
   ]
  },
  {
   "cell_type": "code",
   "execution_count": 11,
   "metadata": {},
   "outputs": [],
   "source": [
    "import numpy as np\n",
    "from mpl_toolkits.mplot3d import Axes3D\n",
    "import matplotlib.pyplot as plt\n",
    "from scipy.interpolate import griddata\n",
    "import matplotlib.cm as cmx\n",
    "import matplotlib\n",
    "\n",
    "%matplotlib qt"
   ]
  },
  {
   "cell_type": "code",
   "execution_count": 12,
   "metadata": {},
   "outputs": [],
   "source": [
    "X = np.random.rand(100)\n",
    "Y = np.random.rand(100)\n",
    "Z = np.random.rand(100)\n",
    "C = np.random.rand(100)"
   ]
  },
  {
   "cell_type": "code",
   "execution_count": 14,
   "metadata": {},
   "outputs": [
    {
     "name": "stderr",
     "output_type": "stream",
     "text": [
      "C:\\Users\\Dergel\\Anaconda3\\lib\\site-packages\\ipykernel_launcher.py:19: UserWarning: Z contains NaN values. This may result in rendering artifacts.\n"
     ]
    }
   ],
   "source": [
    "fig = plt.figure()\n",
    "ax = fig.add_subplot(1, 1, 1, projection='3d')\n",
    "\n",
    "\n",
    "xi = np.linspace(min(X), max(X), 100)\n",
    "yi = np.linspace(min(Y), max(Y), 100)\n",
    "xig, yig = np.meshgrid(xi, yi)\n",
    "\n",
    "zi = griddata((X, Y), Z, (xi[None,:], yi[:,None]), method='cubic')\n",
    "\n",
    "col = griddata((X, Y), C, (xi[None,:], yi[:,None]), method='cubic')\n",
    "\n",
    "# CS = plt.contour(xi,yi,zi,15,linewidths=0.5,color='k')\n",
    "# ax = fig.add_subplot(1, 2, 2, projection='3d')\n",
    "\n",
    "\n",
    "surf = ax.plot_surface(xig, yig, zi, facecolors=cmx.jet(col),\n",
    "\n",
    "                       linewidth=0)\n",
    "\n",
    "plt.show()"
   ]
  },
  {
   "cell_type": "code",
   "execution_count": null,
   "metadata": {},
   "outputs": [],
   "source": []
  }
 ],
 "metadata": {
  "kernelspec": {
   "display_name": "Python 3",
   "language": "python",
   "name": "python3"
  },
  "language_info": {
   "codemirror_mode": {
    "name": "ipython",
    "version": 3
   },
   "file_extension": ".py",
   "mimetype": "text/x-python",
   "name": "python",
   "nbconvert_exporter": "python",
   "pygments_lexer": "ipython3",
   "version": "3.7.3"
  }
 },
 "nbformat": 4,
 "nbformat_minor": 2
}
